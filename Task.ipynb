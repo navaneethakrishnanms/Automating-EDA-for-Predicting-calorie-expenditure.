{
  "cells": [
    {
      "cell_type": "code",
      "execution_count": 1,
      "metadata": {
        "colab": {
          "base_uri": "https://localhost:8080/",
          "height": 206
        },
        "id": "QbU1XpTiFeu9",
        "outputId": "a6707129-cc31-4f04-a25c-a5075a0340cd"
      },
      "outputs": [
        {
          "data": {
            "text/html": [
              "<div>\n",
              "<style scoped>\n",
              "    .dataframe tbody tr th:only-of-type {\n",
              "        vertical-align: middle;\n",
              "    }\n",
              "\n",
              "    .dataframe tbody tr th {\n",
              "        vertical-align: top;\n",
              "    }\n",
              "\n",
              "    .dataframe thead th {\n",
              "        text-align: right;\n",
              "    }\n",
              "</style>\n",
              "<table border=\"1\" class=\"dataframe\">\n",
              "  <thead>\n",
              "    <tr style=\"text-align: right;\">\n",
              "      <th></th>\n",
              "      <th>id</th>\n",
              "      <th>Sex</th>\n",
              "      <th>Age</th>\n",
              "      <th>Height</th>\n",
              "      <th>Weight</th>\n",
              "      <th>Duration</th>\n",
              "      <th>Heart_Rate</th>\n",
              "      <th>Body_Temp</th>\n",
              "    </tr>\n",
              "  </thead>\n",
              "  <tbody>\n",
              "    <tr>\n",
              "      <th>0</th>\n",
              "      <td>750000</td>\n",
              "      <td>male</td>\n",
              "      <td>45</td>\n",
              "      <td>177.0</td>\n",
              "      <td>81.0</td>\n",
              "      <td>7.0</td>\n",
              "      <td>87.0</td>\n",
              "      <td>39.8</td>\n",
              "    </tr>\n",
              "    <tr>\n",
              "      <th>1</th>\n",
              "      <td>750001</td>\n",
              "      <td>male</td>\n",
              "      <td>26</td>\n",
              "      <td>200.0</td>\n",
              "      <td>97.0</td>\n",
              "      <td>20.0</td>\n",
              "      <td>101.0</td>\n",
              "      <td>40.5</td>\n",
              "    </tr>\n",
              "    <tr>\n",
              "      <th>2</th>\n",
              "      <td>750002</td>\n",
              "      <td>female</td>\n",
              "      <td>29</td>\n",
              "      <td>188.0</td>\n",
              "      <td>85.0</td>\n",
              "      <td>16.0</td>\n",
              "      <td>102.0</td>\n",
              "      <td>40.4</td>\n",
              "    </tr>\n",
              "    <tr>\n",
              "      <th>3</th>\n",
              "      <td>750003</td>\n",
              "      <td>female</td>\n",
              "      <td>39</td>\n",
              "      <td>172.0</td>\n",
              "      <td>73.0</td>\n",
              "      <td>20.0</td>\n",
              "      <td>107.0</td>\n",
              "      <td>40.6</td>\n",
              "    </tr>\n",
              "    <tr>\n",
              "      <th>4</th>\n",
              "      <td>750004</td>\n",
              "      <td>female</td>\n",
              "      <td>30</td>\n",
              "      <td>173.0</td>\n",
              "      <td>67.0</td>\n",
              "      <td>16.0</td>\n",
              "      <td>94.0</td>\n",
              "      <td>40.5</td>\n",
              "    </tr>\n",
              "  </tbody>\n",
              "</table>\n",
              "</div>"
            ],
            "text/plain": [
              "       id     Sex  Age  Height  Weight  Duration  Heart_Rate  Body_Temp\n",
              "0  750000    male   45   177.0    81.0       7.0        87.0       39.8\n",
              "1  750001    male   26   200.0    97.0      20.0       101.0       40.5\n",
              "2  750002  female   29   188.0    85.0      16.0       102.0       40.4\n",
              "3  750003  female   39   172.0    73.0      20.0       107.0       40.6\n",
              "4  750004  female   30   173.0    67.0      16.0        94.0       40.5"
            ]
          },
          "execution_count": 1,
          "metadata": {},
          "output_type": "execute_result"
        }
      ],
      "source": [
        "import numpy as np\n",
        "import pandas as pd\n",
        "import matplotlib.pyplot as plt\n",
        "import seaborn as sns\n",
        "df=pd.read_csv('dataset.csv')\n",
        "df.head()"
      ]
    },
    {
      "cell_type": "code",
      "execution_count": 2,
      "metadata": {
        "colab": {
          "base_uri": "https://localhost:8080/",
          "height": 335
        },
        "id": "CvJkjHDOG1iI",
        "outputId": "16866321-db87-4a20-ab7c-5c9c8a7be8e2"
      },
      "outputs": [
        {
          "data": {
            "text/plain": [
              "id            0\n",
              "Sex           0\n",
              "Age           0\n",
              "Height        0\n",
              "Weight        0\n",
              "Duration      0\n",
              "Heart_Rate    0\n",
              "Body_Temp     0\n",
              "dtype: int64"
            ]
          },
          "execution_count": 2,
          "metadata": {},
          "output_type": "execute_result"
        }
      ],
      "source": [
        "df.isnull().sum()"
      ]
    },
    {
      "cell_type": "code",
      "execution_count": 3,
      "metadata": {
        "colab": {
          "base_uri": "https://localhost:8080/"
        },
        "id": "noL1mDEbG8N1",
        "outputId": "3749d65a-0582-4cdf-cf0d-82011d42c332"
      },
      "outputs": [
        {
          "data": {
            "text/plain": [
              "np.int64(0)"
            ]
          },
          "execution_count": 3,
          "metadata": {},
          "output_type": "execute_result"
        }
      ],
      "source": [
        "df.duplicated().sum()"
      ]
    },
    {
      "cell_type": "code",
      "execution_count": 4,
      "metadata": {
        "colab": {
          "base_uri": "https://localhost:8080/",
          "height": 335
        },
        "id": "vJ0pSy3vHI9P",
        "outputId": "280f30ea-e331-4347-86c3-588a4ec73c88"
      },
      "outputs": [
        {
          "data": {
            "text/plain": [
              "id            0\n",
              "Sex           0\n",
              "Age           0\n",
              "Height        0\n",
              "Weight        0\n",
              "Duration      0\n",
              "Heart_Rate    0\n",
              "Body_Temp     0\n",
              "dtype: int64"
            ]
          },
          "execution_count": 4,
          "metadata": {},
          "output_type": "execute_result"
        }
      ],
      "source": [
        "df.fillna(df.mean(numeric_only=True), inplace=True)\n",
        "df.isnull().sum()\n"
      ]
    },
    {
      "cell_type": "code",
      "execution_count": 5,
      "metadata": {
        "colab": {
          "base_uri": "https://localhost:8080/"
        },
        "id": "0A91JOSbIfLL",
        "outputId": "e54fd4d0-a020-454e-a6ae-0f991b20782b"
      },
      "outputs": [
        {
          "name": "stdout",
          "output_type": "stream",
          "text": [
            "Shape of the data: (250000, 8)\n",
            "Column names: Index(['id', 'Sex', 'Age', 'Height', 'Weight', 'Duration', 'Heart_Rate',\n",
            "       'Body_Temp'],\n",
            "      dtype='object')\n",
            "Data types of each column:\n",
            "id              int64\n",
            "Sex            object\n",
            "Age             int64\n",
            "Height        float64\n",
            "Weight        float64\n",
            "Duration      float64\n",
            "Heart_Rate    float64\n",
            "Body_Temp     float64\n",
            "dtype: object\n",
            "\n",
            "\n",
            "                  id            Age         Height         Weight  \\\n",
            "count  250000.000000  250000.000000  250000.000000  250000.000000   \n",
            "mean   874999.500000      41.452464     174.725624      75.147712   \n",
            "std     72168.927986      15.177769      12.822039      13.979513   \n",
            "min    750000.000000      20.000000     127.000000      39.000000   \n",
            "25%    812499.750000      28.000000     164.000000      63.000000   \n",
            "50%    874999.500000      40.000000     174.000000      74.000000   \n",
            "75%    937499.250000      52.000000     185.000000      87.000000   \n",
            "max    999999.000000      79.000000     219.000000     126.000000   \n",
            "\n",
            "            Duration     Heart_Rate      Body_Temp  \n",
            "count  250000.000000  250000.000000  250000.000000  \n",
            "mean       15.415428      95.479084      40.036093  \n",
            "std         8.349133       9.450161       0.778448  \n",
            "min         1.000000      67.000000      37.100000  \n",
            "25%         8.000000      88.000000      39.600000  \n",
            "50%        15.000000      95.000000      40.300000  \n",
            "75%        23.000000     103.000000      40.600000  \n",
            "max        30.000000     128.000000      41.500000  \n"
          ]
        }
      ],
      "source": [
        "print(\"Shape of the data:\",df.shape)\n",
        "print(\"Column names:\",df.columns)\n",
        "print(\"Data types of each column:\")\n",
        "print(df.dtypes)\n",
        "print()\n",
        "\n",
        "print()\n",
        "print(df.describe())\n"
      ]
    },
    {
      "cell_type": "code",
      "execution_count": 6,
      "metadata": {
        "colab": {
          "base_uri": "https://localhost:8080/",
          "height": 178
        },
        "id": "8sVqJkMXKTp2",
        "outputId": "13d90fe1-d45a-4ba4-8351-e9c1bc4571e7"
      },
      "outputs": [
        {
          "data": {
            "text/plain": [
              "Sex\n",
              "female    125281\n",
              "male      124719\n",
              "Name: count, dtype: int64"
            ]
          },
          "execution_count": 6,
          "metadata": {},
          "output_type": "execute_result"
        }
      ],
      "source": [
        "df['Sex'].value_counts()\n"
      ]
    },
    {
      "cell_type": "code",
      "execution_count": 7,
      "metadata": {
        "colab": {
          "base_uri": "https://localhost:8080/",
          "height": 430
        },
        "id": "pBZBOS6pKYHB",
        "outputId": "f0f35dde-0d55-48e4-9863-852b7f94393f"
      },
      "outputs": [
        {
          "data": {
            "image/png": "[encoded data removed]",
            "text/plain": [
              "<Figure size 640x480 with 1 Axes>"
            ]
          },
          "metadata": {},
          "output_type": "display_data"
        }
      ],
      "source": [
        "df['Age'].hist(bins=30)\n",
        "plt.show()"
      ]
    },
    {
      "cell_type": "code",
      "execution_count": 8,
      "metadata": {
        "colab": {
          "base_uri": "https://localhost:8080/",
          "height": 501
        },
        "id": "AbHvtD83KxQZ",
        "outputId": "b4924690-4d6b-43ec-c80c-627391a40160"
      },
      "outputs": [
        {
          "data": {
            "image/png": "[encoded data removed]",
            "text/plain": [
              "<Figure size 640x480 with 2 Axes>"
            ]
          },
          "metadata": {},
          "output_type": "display_data"
        }
      ],
      "source": [
        "import seaborn as sns\n",
        "\n",
        "sns.heatmap(df.drop('Sex', axis=1).corr(), cmap=\"coolwarm\")\n",
        "plt.show()"
      ]
    },
    {
      "cell_type": "code",
      "execution_count": 9,
      "metadata": {
        "colab": {
          "base_uri": "https://localhost:8080/",
          "height": 206
        },
        "id": "zL8lZFeCLVMV",
        "outputId": "07fd7594-8281-41cb-e750-012e38712c9f"
      },
      "outputs": [
        {
          "data": {
            "text/html": [
              "<div>\n",
              "<style scoped>\n",
              "    .dataframe tbody tr th:only-of-type {\n",
              "        vertical-align: middle;\n",
              "    }\n",
              "\n",
              "    .dataframe tbody tr th {\n",
              "        vertical-align: top;\n",
              "    }\n",
              "\n",
              "    .dataframe thead th {\n",
              "        text-align: right;\n",
              "    }\n",
              "</style>\n",
              "<table border=\"1\" class=\"dataframe\">\n",
              "  <thead>\n",
              "    <tr style=\"text-align: right;\">\n",
              "      <th></th>\n",
              "      <th>id</th>\n",
              "      <th>Sex</th>\n",
              "      <th>Age</th>\n",
              "      <th>Height</th>\n",
              "      <th>Weight</th>\n",
              "      <th>Duration</th>\n",
              "      <th>Heart_Rate</th>\n",
              "      <th>Body_Temp</th>\n",
              "      <th>Calories</th>\n",
              "    </tr>\n",
              "  </thead>\n",
              "  <tbody>\n",
              "    <tr>\n",
              "      <th>0</th>\n",
              "      <td>750000</td>\n",
              "      <td>male</td>\n",
              "      <td>45</td>\n",
              "      <td>177.0</td>\n",
              "      <td>81.0</td>\n",
              "      <td>7.0</td>\n",
              "      <td>87.0</td>\n",
              "      <td>39.8</td>\n",
              "      <td>4.9329</td>\n",
              "    </tr>\n",
              "    <tr>\n",
              "      <th>1</th>\n",
              "      <td>750001</td>\n",
              "      <td>male</td>\n",
              "      <td>26</td>\n",
              "      <td>200.0</td>\n",
              "      <td>97.0</td>\n",
              "      <td>20.0</td>\n",
              "      <td>101.0</td>\n",
              "      <td>40.5</td>\n",
              "      <td>19.5940</td>\n",
              "    </tr>\n",
              "    <tr>\n",
              "      <th>2</th>\n",
              "      <td>750002</td>\n",
              "      <td>female</td>\n",
              "      <td>29</td>\n",
              "      <td>188.0</td>\n",
              "      <td>85.0</td>\n",
              "      <td>16.0</td>\n",
              "      <td>102.0</td>\n",
              "      <td>40.4</td>\n",
              "      <td>13.8720</td>\n",
              "    </tr>\n",
              "    <tr>\n",
              "      <th>3</th>\n",
              "      <td>750003</td>\n",
              "      <td>female</td>\n",
              "      <td>39</td>\n",
              "      <td>172.0</td>\n",
              "      <td>73.0</td>\n",
              "      <td>20.0</td>\n",
              "      <td>107.0</td>\n",
              "      <td>40.6</td>\n",
              "      <td>15.6220</td>\n",
              "    </tr>\n",
              "    <tr>\n",
              "      <th>4</th>\n",
              "      <td>750004</td>\n",
              "      <td>female</td>\n",
              "      <td>30</td>\n",
              "      <td>173.0</td>\n",
              "      <td>67.0</td>\n",
              "      <td>16.0</td>\n",
              "      <td>94.0</td>\n",
              "      <td>40.5</td>\n",
              "      <td>10.0768</td>\n",
              "    </tr>\n",
              "  </tbody>\n",
              "</table>\n",
              "</div>"
            ],
            "text/plain": [
              "       id     Sex  Age  Height  Weight  Duration  Heart_Rate  Body_Temp  \\\n",
              "0  750000    male   45   177.0    81.0       7.0        87.0       39.8   \n",
              "1  750001    male   26   200.0    97.0      20.0       101.0       40.5   \n",
              "2  750002  female   29   188.0    85.0      16.0       102.0       40.4   \n",
              "3  750003  female   39   172.0    73.0      20.0       107.0       40.6   \n",
              "4  750004  female   30   173.0    67.0      16.0        94.0       40.5   \n",
              "\n",
              "   Calories  \n",
              "0    4.9329  \n",
              "1   19.5940  \n",
              "2   13.8720  \n",
              "3   15.6220  \n",
              "4   10.0768  "
            ]
          },
          "execution_count": 9,
          "metadata": {},
          "output_type": "execute_result"
        }
      ],
      "source": [
        "df['Calories'] = df['Duration'] * df['Heart_Rate'] * df['Weight'] * 0.0001\n",
        "df.head()\n"
      ]
    },
    {
      "cell_type": "code",
      "execution_count": 10,
      "metadata": {
        "colab": {
          "base_uri": "https://localhost:8080/",
          "height": 178
        },
        "id": "BhltZTMSL53o",
        "outputId": "98518526-46f9-41c0-8486-e5b1c9bbf2ae"
      },
      "outputs": [
        {
          "data": {
            "text/plain": [
              "Sex\n",
              "female    95.415322\n",
              "male      95.543133\n",
              "Name: Heart_Rate, dtype: float64"
            ]
          },
          "execution_count": 10,
          "metadata": {},
          "output_type": "execute_result"
        }
      ],
      "source": [
        "df.groupby('Sex')['Heart_Rate'].mean()\n"
      ]
    },
    {
      "cell_type": "code",
      "execution_count": 11,
      "metadata": {
        "colab": {
          "base_uri": "https://localhost:8080/",
          "height": 466
        },
        "id": "xOPST5MKMCLR",
        "outputId": "62ef583d-0155-4f22-e1ea-3a0c939e05f3"
      },
      "outputs": [
        {
          "data": {
            "text/plain": [
              "<Axes: xlabel='Sex', ylabel='Heart_Rate'>"
            ]
          },
          "execution_count": 11,
          "metadata": {},
          "output_type": "execute_result"
        },
        {
          "data": {
            "image/png": "[encoded data removed]",
            "text/plain": [
              "<Figure size 640x480 with 1 Axes>"
            ]
          },
          "metadata": {},
          "output_type": "display_data"
        }
      ],
      "source": [
        "sns.boxplot(x='Sex', y='Heart_Rate', data=df)\n"
      ]
    },
    {
      "cell_type": "code",
      "execution_count": 12,
      "metadata": {
        "colab": {
          "base_uri": "https://localhost:8080/"
        },
        "id": "C_fgRfVdM0MP",
        "outputId": "bea676db-b61a-47d3-8227-72bfcaee170a"
      },
      "outputs": [
        {
          "data": {
            "text/plain": [
              "np.float64(41.452464)"
            ]
          },
          "execution_count": 12,
          "metadata": {},
          "output_type": "execute_result"
        }
      ],
      "source": [
        "df['Age'].mean()"
      ]
    },
    {
      "cell_type": "code",
      "execution_count": 13,
      "metadata": {
        "colab": {
          "base_uri": "https://localhost:8080/",
          "height": 206
        },
        "id": "PoY5wDZ-M902",
        "outputId": "86973d76-4d37-4ca1-88ad-1c354c7854f2"
      },
      "outputs": [
        {
          "data": {
            "text/html": [
              "<div>\n",
              "<style scoped>\n",
              "    .dataframe tbody tr th:only-of-type {\n",
              "        vertical-align: middle;\n",
              "    }\n",
              "\n",
              "    .dataframe tbody tr th {\n",
              "        vertical-align: top;\n",
              "    }\n",
              "\n",
              "    .dataframe thead th {\n",
              "        text-align: right;\n",
              "    }\n",
              "</style>\n",
              "<table border=\"1\" class=\"dataframe\">\n",
              "  <thead>\n",
              "    <tr style=\"text-align: right;\">\n",
              "      <th></th>\n",
              "      <th>id</th>\n",
              "      <th>Sex</th>\n",
              "      <th>Age</th>\n",
              "      <th>Height</th>\n",
              "      <th>Weight</th>\n",
              "      <th>Duration</th>\n",
              "      <th>Heart_Rate</th>\n",
              "      <th>Body_Temp</th>\n",
              "      <th>Calories</th>\n",
              "      <th>Good_heart_rate</th>\n",
              "    </tr>\n",
              "  </thead>\n",
              "  <tbody>\n",
              "    <tr>\n",
              "      <th>0</th>\n",
              "      <td>750000</td>\n",
              "      <td>male</td>\n",
              "      <td>45</td>\n",
              "      <td>177.0</td>\n",
              "      <td>81.0</td>\n",
              "      <td>7.0</td>\n",
              "      <td>87.0</td>\n",
              "      <td>39.8</td>\n",
              "      <td>4.9329</td>\n",
              "      <td>1</td>\n",
              "    </tr>\n",
              "    <tr>\n",
              "      <th>1</th>\n",
              "      <td>750001</td>\n",
              "      <td>male</td>\n",
              "      <td>26</td>\n",
              "      <td>200.0</td>\n",
              "      <td>97.0</td>\n",
              "      <td>20.0</td>\n",
              "      <td>101.0</td>\n",
              "      <td>40.5</td>\n",
              "      <td>19.5940</td>\n",
              "      <td>0</td>\n",
              "    </tr>\n",
              "    <tr>\n",
              "      <th>2</th>\n",
              "      <td>750002</td>\n",
              "      <td>female</td>\n",
              "      <td>29</td>\n",
              "      <td>188.0</td>\n",
              "      <td>85.0</td>\n",
              "      <td>16.0</td>\n",
              "      <td>102.0</td>\n",
              "      <td>40.4</td>\n",
              "      <td>13.8720</td>\n",
              "      <td>0</td>\n",
              "    </tr>\n",
              "    <tr>\n",
              "      <th>3</th>\n",
              "      <td>750003</td>\n",
              "      <td>female</td>\n",
              "      <td>39</td>\n",
              "      <td>172.0</td>\n",
              "      <td>73.0</td>\n",
              "      <td>20.0</td>\n",
              "      <td>107.0</td>\n",
              "      <td>40.6</td>\n",
              "      <td>15.6220</td>\n",
              "      <td>0</td>\n",
              "    </tr>\n",
              "    <tr>\n",
              "      <th>4</th>\n",
              "      <td>750004</td>\n",
              "      <td>female</td>\n",
              "      <td>30</td>\n",
              "      <td>173.0</td>\n",
              "      <td>67.0</td>\n",
              "      <td>16.0</td>\n",
              "      <td>94.0</td>\n",
              "      <td>40.5</td>\n",
              "      <td>10.0768</td>\n",
              "      <td>1</td>\n",
              "    </tr>\n",
              "  </tbody>\n",
              "</table>\n",
              "</div>"
            ],
            "text/plain": [
              "       id     Sex  Age  Height  Weight  Duration  Heart_Rate  Body_Temp  \\\n",
              "0  750000    male   45   177.0    81.0       7.0        87.0       39.8   \n",
              "1  750001    male   26   200.0    97.0      20.0       101.0       40.5   \n",
              "2  750002  female   29   188.0    85.0      16.0       102.0       40.4   \n",
              "3  750003  female   39   172.0    73.0      20.0       107.0       40.6   \n",
              "4  750004  female   30   173.0    67.0      16.0        94.0       40.5   \n",
              "\n",
              "   Calories  Good_heart_rate  \n",
              "0    4.9329                1  \n",
              "1   19.5940                0  \n",
              "2   13.8720                0  \n",
              "3   15.6220                0  \n",
              "4   10.0768                1  "
            ]
          },
          "execution_count": 13,
          "metadata": {},
          "output_type": "execute_result"
        }
      ],
      "source": [
        "df['Good_heart_rate']=((df['Heart_Rate']>=60)&(df['Heart_Rate']<=100)).astype(int)\n",
        "df.head()"
      ]
    },
    {
      "cell_type": "code",
      "execution_count": 14,
      "metadata": {
        "colab": {
          "base_uri": "https://localhost:8080/"
        },
        "id": "vRw37KFUPwNt",
        "outputId": "58a4b119-19a3-4518-a592-a12bafb70d38"
      },
      "outputs": [
        {
          "name": "stdout",
          "output_type": "stream",
          "text": [
            "Number of young people: 38510\n"
          ]
        }
      ],
      "source": [
        "young=(df['Age']<25).sum()\n",
        "print(\"Number of young people:\",young)"
      ]
    },
    {
      "cell_type": "code",
      "execution_count": 15,
      "metadata": {
        "colab": {
          "base_uri": "https://localhost:8080/",
          "height": 466
        },
        "id": "1rNoPZjGSqDJ",
        "outputId": "dc3c3cb6-950b-437a-a0e9-a694bd7275a2"
      },
      "outputs": [
        {
          "data": {
            "text/plain": [
              "<Axes: xlabel='Age', ylabel='Height'>"
            ]
          },
          "execution_count": 15,
          "metadata": {},
          "output_type": "execute_result"
        },
        {
          "data": {
            "image/png": "[encoded data removed]",
            "text/plain": [
              "<Figure size 640x480 with 1 Axes>"
            ]
          },
          "metadata": {},
          "output_type": "display_data"
        }
      ],
      "source": [
        "boys = df[(df['Sex'] == 'male') & (df['Age'] < 21)]\n",
        "import seaborn as sns\n",
        "sns.scatterplot(x='Age', y='Height', data=boys)\n"
      ]
    },
    {
      "cell_type": "code",
      "execution_count": 16,
      "metadata": {
        "colab": {
          "base_uri": "https://localhost:8080/",
          "height": 466
        },
        "id": "KWY1Xuq1TYMS",
        "outputId": "1abb3ba3-a652-4f5a-c076-318a748efc95"
      },
      "outputs": [
        {
          "data": {
            "text/plain": [
              "<Axes: xlabel='Age', ylabel='Height'>"
            ]
          },
          "execution_count": 16,
          "metadata": {},
          "output_type": "execute_result"
        },
        {
          "data": {
            "image/png": "[encoded data removed]",
            "text/plain": [
              "<Figure size 640x480 with 1 Axes>"
            ]
          },
          "metadata": {},
          "output_type": "display_data"
        }
      ],
      "source": [
        "girls= df[(df['Sex'] == 'female') & (df['Age'] < 21)]\n",
        "import seaborn as sns\n",
        "sns.scatterplot(x='Age', y='Height', data=girls)\n"
      ]
    },
    {
      "cell_type": "code",
      "execution_count": 17,
      "metadata": {
        "colab": {
          "base_uri": "https://localhost:8080/"
        },
        "id": "rjKyec6XTNta",
        "outputId": "3b39ae88-8ed3-4006-ab90-eef2172f4792"
      },
      "outputs": [
        {
          "name": "stdout",
          "output_type": "stream",
          "text": [
            "Total good heart rate: 246467\n",
            "Bad heart rate: 3533\n"
          ]
        },
        {
          "data": {
            "text/plain": [
              "(250000, 10)"
            ]
          },
          "execution_count": 17,
          "metadata": {},
          "output_type": "execute_result"
        }
      ],
      "source": [
        "mean_dur=df['Duration'].mean()\n",
        "\n",
        "\n",
        "df['Good_heart_rate'] = (((df['Duration'] > mean_dur) & (df['Heart_Rate'] > 100))|((df['Heart_Rate']>=60)&(df['Heart_Rate']<=100))).astype(int)\n",
        "\n",
        "total=(df['Good_heart_rate']==1).sum()\n",
        "print(\"Total good heart rate:\",total)\n",
        "print(\"Bad heart rate:\",len(df)-total)\n",
        "df.shape\n",
        "\n",
        "\n"
      ]
    },
    {
      "cell_type": "code",
      "execution_count": 18,
      "metadata": {},
      "outputs": [
        {
          "name": "stdout",
          "output_type": "stream",
          "text": [
            "c:\\Users\\nithi\\Automating eda\\venv\\python.exe\n"
          ]
        }
      ],
      "source": [
        "import sys\n",
        "print(sys.executable)\n"
      ]
    },
    {
      "cell_type": "code",
      "execution_count": 24,
      "metadata": {},
      "outputs": [
        {
          "data": {
            "text/html": [
              "\n",
              "        <iframe\n",
              "            width=\"100%\"\n",
              "            height=\"475\"\n",
              "            src=\"http://Nithish_M:40000/dtale/iframe/4\"\n",
              "            frameborder=\"0\"\n",
              "            allowfullscreen\n",
              "            \n",
              "        ></iframe>\n",
              "        "
            ],
            "text/plain": [
              "<IPython.lib.display.IFrame at 0x1e4eac26710>"
            ]
          },
          "metadata": {},
          "output_type": "display_data"
        },
        {
          "data": {
            "text/plain": []
          },
          "execution_count": 24,
          "metadata": {},
          "output_type": "execute_result"
        }
      ],
      "source": [
        "import dtale\n",
        "dtale.show(df)"
      ]
    }
  ],
  "metadata": {
    "colab": {
      "provenance": []
    },
    "kernelspec": {
      "display_name": "Python 3",
      "language": "python",
      "name": "python3"
    },
    "language_info": {
      "codemirror_mode": {
        "name": "ipython",
        "version": 3
      },
      "file_extension": ".py",
      "mimetype": "text/x-python",
      "name": "python",
      "nbconvert_exporter": "python",
      "pygments_lexer": "ipython3",
      "version": "3.13.0"
    }
  },
  "nbformat": 4,
  "nbformat_minor": 0
}
